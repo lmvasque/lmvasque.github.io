{
 "cells": [
  {
   "cell_type": "markdown",
   "metadata": {
    "deletable": true,
    "editable": true
   },
   "source": [
    "# Publications markdown generator for academicpages\n",
    "\n",
    "Takes a TSV of publications with metadata and converts them for use with [academicpages.github.io](academicpages.github.io). This is an interactive Jupyter notebook ([see more info here](http://jupyter-notebook-beginner-guide.readthedocs.io/en/latest/what_is_jupyter.html)). The core python code is also in `publications.py`. Run either from the `markdown_generator` folder after replacing `publications.tsv` with one containing your data.\n",
    "\n",
    "TODO: Make this work with BibTex and other databases of citations, rather than Stuart's non-standard TSV format and citation style.\n"
   ]
  },
  {
   "cell_type": "markdown",
   "metadata": {},
   "source": [
    "## Data format\n",
    "\n",
    "The TSV needs to have the following columns: pub_date, title, venue, excerpt, citation, site_url, and paper_url, with a header at the top. \n",
    "\n",
    "- `excerpt` and `paper_url` can be blank, but the others must have values. \n",
    "- `pub_date` must be formatted as YYYY-MM-DD.\n",
    "- `url_slug` will be the descriptive part of the .md file and the permalink URL for the page about the paper. The .md file will be `YYYY-MM-DD-[url_slug].md` and the permalink will be `https://[yourdomain]/publications/YYYY-MM-DD-[url_slug]`\n",
    "\n",
    "This is how the raw file looks (it doesn't look pretty, use a spreadsheet or other program to edit and create)."
   ]
  },
  {
   "cell_type": "code",
   "execution_count": 9,
   "metadata": {},
   "outputs": [],
   "source": [
    "PUBLICATIONS = \"publications_laura.tsv\""
   ]
  },
  {
   "cell_type": "code",
   "execution_count": 10,
   "metadata": {
    "collapsed": false
   },
   "outputs": [
    {
     "name": "stdout",
     "output_type": "stream",
     "text": [
      "cat: PUBLICATIONS: No such file or directory\n"
     ]
    }
   ],
   "source": [
    "!cat PUBLICATIONS"
   ]
  },
  {
   "cell_type": "markdown",
   "metadata": {},
   "source": [
    "## Import pandas\n",
    "\n",
    "We are using the very handy pandas library for dataframes."
   ]
  },
  {
   "cell_type": "code",
   "execution_count": 11,
   "metadata": {
    "collapsed": true,
    "deletable": true,
    "editable": true
   },
   "outputs": [],
   "source": [
    "import pandas as pd"
   ]
  },
  {
   "cell_type": "markdown",
   "metadata": {},
   "source": [
    "## Import TSV\n",
    "\n",
    "Pandas makes this easy with the read_csv function. We are using a TSV, so we specify the separator as a tab, or `\\t`.\n",
    "\n",
    "I found it important to put this data in a tab-separated values format, because there are a lot of commas in this kind of data and comma-separated values can get messed up. However, you can modify the import statement, as pandas also has read_excel(), read_json(), and others."
   ]
  },
  {
   "cell_type": "code",
   "execution_count": 12,
   "metadata": {
    "collapsed": false,
    "deletable": true,
    "editable": true
   },
   "outputs": [
    {
     "data": {
      "text/html": [
       "<div>\n",
       "<style scoped>\n",
       "    .dataframe tbody tr th:only-of-type {\n",
       "        vertical-align: middle;\n",
       "    }\n",
       "\n",
       "    .dataframe tbody tr th {\n",
       "        vertical-align: top;\n",
       "    }\n",
       "\n",
       "    .dataframe thead th {\n",
       "        text-align: right;\n",
       "    }\n",
       "</style>\n",
       "<table border=\"1\" class=\"dataframe\">\n",
       "  <thead>\n",
       "    <tr style=\"text-align: right;\">\n",
       "      <th></th>\n",
       "      <th>pub_date</th>\n",
       "      <th>title</th>\n",
       "      <th>venue</th>\n",
       "      <th>excerpt</th>\n",
       "      <th>citation</th>\n",
       "      <th>url_slug</th>\n",
       "      <th>paper_url</th>\n",
       "      <th>slides_url</th>\n",
       "    </tr>\n",
       "  </thead>\n",
       "  <tbody>\n",
       "    <tr>\n",
       "      <th>0</th>\n",
       "      <td>2025-01-07</td>\n",
       "      <td>A Human Perspective to AI-based Candidate Scre...</td>\n",
       "      <td>58th Hawaii International Conference on System...</td>\n",
       "      <td>Skill extraction is at the core of algorithmic...</td>\n",
       "      <td>Vásquez-Rodríguez, L., Audrin, B., Michel, S.,...</td>\n",
       "      <td>hicss</td>\n",
       "      <td>https://scholarspace.manoa.hawaii.edu/items/ed...</td>\n",
       "      <td>NaN</td>\n",
       "    </tr>\n",
       "    <tr>\n",
       "      <th>1</th>\n",
       "      <td>2024-10-14</td>\n",
       "      <td>Hardware-effective Approaches for Skill Extrac...</td>\n",
       "      <td>RecSys in HR’24: The 4th Workshop on Recommend...</td>\n",
       "      <td>Recent work on the automatic extraction of ski...</td>\n",
       "      <td>Vásquez-Rodríguez, L., Audrin, B., Michel, S.,...</td>\n",
       "      <td>recsysinhr</td>\n",
       "      <td>https://recsyshr.aau.dk/wp-content/uploads/202...</td>\n",
       "      <td>https://docs.google.com/presentation/d/188QoZ0...</td>\n",
       "    </tr>\n",
       "    <tr>\n",
       "      <th>2</th>\n",
       "      <td>2023-12-08</td>\n",
       "      <td>BLESS: Benchmarking Large Language Models on S...</td>\n",
       "      <td>In Proceedings of the 2023 Conference on Empir...</td>\n",
       "      <td>We present BLESS, a comprehensive performance ...</td>\n",
       "      <td>Kew, T., Chi, A., Vásquez-Rodríguez, L., Agraw...</td>\n",
       "      <td>bless</td>\n",
       "      <td>https://aclanthology.org/2023.emnlp-main.821/</td>\n",
       "      <td>NaN</td>\n",
       "    </tr>\n",
       "    <tr>\n",
       "      <th>3</th>\n",
       "      <td>2023-09-08</td>\n",
       "      <td>Document-level Text Simplification with Cohere...</td>\n",
       "      <td>In Proceedings of the Second Workshop on Text ...</td>\n",
       "      <td>We present a coherence-aware evaluation of doc...</td>\n",
       "      <td>Vásquez-Rodríguez, L., Shardlow, M., Przybyła,...</td>\n",
       "      <td>coherence</td>\n",
       "      <td>https://aclanthology.org/2023.tsar-1.9/</td>\n",
       "      <td>NaN</td>\n",
       "    </tr>\n",
       "    <tr>\n",
       "      <th>4</th>\n",
       "      <td>2022-12-08</td>\n",
       "      <td>UoM and MMU @ TSAR2022-ST — PromptLS: Prompt L...</td>\n",
       "      <td>In Proceedings of the Workshop on Text Simplif...</td>\n",
       "      <td>We present PromptLS, a method for fine-tuning ...</td>\n",
       "      <td>Vásquez-Rodríguez, L., Nguyen, N., Shardlow, M...</td>\n",
       "      <td>prompt-ls</td>\n",
       "      <td>https://aclanthology.org/2022.tsar-1.23/</td>\n",
       "      <td>https://aclanthology.org/2022.tsar-1.23.mp4</td>\n",
       "    </tr>\n",
       "    <tr>\n",
       "      <th>5</th>\n",
       "      <td>2022-12-08</td>\n",
       "      <td>A Benchmark for Neural Readability Assessment ...</td>\n",
       "      <td>In Proceedings of the Workshop on Text Simplif...</td>\n",
       "      <td>We release a new benchmark for Automated Reada...</td>\n",
       "      <td>Vásquez-Rodríguez, L., Cuenca-Jiménez, P., Mor...</td>\n",
       "      <td>readability</td>\n",
       "      <td>https://aclanthology.org/2022.tsar-1.18/</td>\n",
       "      <td>https://www.youtube.com/watch?v=g-japt36HK0</td>\n",
       "    </tr>\n",
       "    <tr>\n",
       "      <th>6</th>\n",
       "      <td>2021-08-02</td>\n",
       "      <td>Investigating Text Simplification Evaluation</td>\n",
       "      <td>Evaluation. In Findings of the Association for...</td>\n",
       "      <td>Modern text simplification (TS) heavily relies...</td>\n",
       "      <td>Vásquez-Rodríguez, L., Shardlow, M., Przybyła,...</td>\n",
       "      <td>investigating</td>\n",
       "      <td>https://aclanthology.org/2021.findings-acl.77/</td>\n",
       "      <td>https://aclanthology.org/2021.findings-acl.77.mp4</td>\n",
       "    </tr>\n",
       "    <tr>\n",
       "      <th>7</th>\n",
       "      <td>2021-09-21</td>\n",
       "      <td>The Role of Text Simplification Operations in ...</td>\n",
       "      <td>In Current Trends in Text Simplification (CTTS...</td>\n",
       "      <td>Research in Text Simplification (TS) has relie...</td>\n",
       "      <td>Vásquez-Rodríguez, L., Shardlow, M., Przybyła,...</td>\n",
       "      <td>role</td>\n",
       "      <td>https://ceur-ws.org/Vol-2944/paper4.pdf</td>\n",
       "      <td>https://www.youtube.com/watch?v=fyGCS6q4Ljw</td>\n",
       "    </tr>\n",
       "    <tr>\n",
       "      <th>8</th>\n",
       "      <td>2019-05-19</td>\n",
       "      <td>PATHWAYS ANALYZER: Design of a Tool for the Sy...</td>\n",
       "      <td>BioRxiv. The preprint server for Biology.</td>\n",
       "      <td>The present work aims to design a tool for the...</td>\n",
       "      <td>Vásquez-Rodríguez, L., Alvarado, R., Orozco, A...</td>\n",
       "      <td>pathways</td>\n",
       "      <td>https://www.biorxiv.org/content/10.1101/634998v3</td>\n",
       "      <td>NaN</td>\n",
       "    </tr>\n",
       "    <tr>\n",
       "      <th>9</th>\n",
       "      <td>2024-12-24</td>\n",
       "      <td>Simple is not Enough: Document-level Text Simp...</td>\n",
       "      <td>arXiv preprint.</td>\n",
       "      <td>We present a coherence-aware evaluation of doc...</td>\n",
       "      <td>Vásquez-Rodríguez, L., Nguyen, N. T., Przybyła...</td>\n",
       "      <td>simple</td>\n",
       "      <td>https://arxiv.org/abs/2412.18655</td>\n",
       "      <td>NaN</td>\n",
       "    </tr>\n",
       "  </tbody>\n",
       "</table>\n",
       "</div>"
      ],
      "text/plain": [
       "     pub_date                                              title  \\\n",
       "0  2025-01-07  A Human Perspective to AI-based Candidate Scre...   \n",
       "1  2024-10-14  Hardware-effective Approaches for Skill Extrac...   \n",
       "2  2023-12-08  BLESS: Benchmarking Large Language Models on S...   \n",
       "3  2023-09-08  Document-level Text Simplification with Cohere...   \n",
       "4  2022-12-08  UoM and MMU @ TSAR2022-ST — PromptLS: Prompt L...   \n",
       "5  2022-12-08  A Benchmark for Neural Readability Assessment ...   \n",
       "6  2021-08-02       Investigating Text Simplification Evaluation   \n",
       "7  2021-09-21  The Role of Text Simplification Operations in ...   \n",
       "8  2019-05-19  PATHWAYS ANALYZER: Design of a Tool for the Sy...   \n",
       "9  2024-12-24  Simple is not Enough: Document-level Text Simp...   \n",
       "\n",
       "                                               venue  \\\n",
       "0  58th Hawaii International Conference on System...   \n",
       "1  RecSys in HR’24: The 4th Workshop on Recommend...   \n",
       "2  In Proceedings of the 2023 Conference on Empir...   \n",
       "3  In Proceedings of the Second Workshop on Text ...   \n",
       "4  In Proceedings of the Workshop on Text Simplif...   \n",
       "5  In Proceedings of the Workshop on Text Simplif...   \n",
       "6  Evaluation. In Findings of the Association for...   \n",
       "7  In Current Trends in Text Simplification (CTTS...   \n",
       "8          BioRxiv. The preprint server for Biology.   \n",
       "9                                    arXiv preprint.   \n",
       "\n",
       "                                             excerpt  \\\n",
       "0  Skill extraction is at the core of algorithmic...   \n",
       "1  Recent work on the automatic extraction of ski...   \n",
       "2  We present BLESS, a comprehensive performance ...   \n",
       "3  We present a coherence-aware evaluation of doc...   \n",
       "4  We present PromptLS, a method for fine-tuning ...   \n",
       "5  We release a new benchmark for Automated Reada...   \n",
       "6  Modern text simplification (TS) heavily relies...   \n",
       "7  Research in Text Simplification (TS) has relie...   \n",
       "8  The present work aims to design a tool for the...   \n",
       "9  We present a coherence-aware evaluation of doc...   \n",
       "\n",
       "                                            citation       url_slug  \\\n",
       "0  Vásquez-Rodríguez, L., Audrin, B., Michel, S.,...          hicss   \n",
       "1  Vásquez-Rodríguez, L., Audrin, B., Michel, S.,...     recsysinhr   \n",
       "2  Kew, T., Chi, A., Vásquez-Rodríguez, L., Agraw...          bless   \n",
       "3  Vásquez-Rodríguez, L., Shardlow, M., Przybyła,...      coherence   \n",
       "4  Vásquez-Rodríguez, L., Nguyen, N., Shardlow, M...      prompt-ls   \n",
       "5  Vásquez-Rodríguez, L., Cuenca-Jiménez, P., Mor...    readability   \n",
       "6  Vásquez-Rodríguez, L., Shardlow, M., Przybyła,...  investigating   \n",
       "7  Vásquez-Rodríguez, L., Shardlow, M., Przybyła,...           role   \n",
       "8  Vásquez-Rodríguez, L., Alvarado, R., Orozco, A...       pathways   \n",
       "9  Vásquez-Rodríguez, L., Nguyen, N. T., Przybyła...         simple   \n",
       "\n",
       "                                           paper_url  \\\n",
       "0  https://scholarspace.manoa.hawaii.edu/items/ed...   \n",
       "1  https://recsyshr.aau.dk/wp-content/uploads/202...   \n",
       "2      https://aclanthology.org/2023.emnlp-main.821/   \n",
       "3            https://aclanthology.org/2023.tsar-1.9/   \n",
       "4           https://aclanthology.org/2022.tsar-1.23/   \n",
       "5           https://aclanthology.org/2022.tsar-1.18/   \n",
       "6     https://aclanthology.org/2021.findings-acl.77/   \n",
       "7            https://ceur-ws.org/Vol-2944/paper4.pdf   \n",
       "8   https://www.biorxiv.org/content/10.1101/634998v3   \n",
       "9                   https://arxiv.org/abs/2412.18655   \n",
       "\n",
       "                                          slides_url  \n",
       "0                                                NaN  \n",
       "1  https://docs.google.com/presentation/d/188QoZ0...  \n",
       "2                                                NaN  \n",
       "3                                                NaN  \n",
       "4        https://aclanthology.org/2022.tsar-1.23.mp4  \n",
       "5        https://www.youtube.com/watch?v=g-japt36HK0  \n",
       "6  https://aclanthology.org/2021.findings-acl.77.mp4  \n",
       "7        https://www.youtube.com/watch?v=fyGCS6q4Ljw  \n",
       "8                                                NaN  \n",
       "9                                                NaN  "
      ]
     },
     "execution_count": 12,
     "metadata": {},
     "output_type": "execute_result"
    }
   ],
   "source": [
    "publications = pd.read_csv(PUBLICATIONS, sep=\"\\t\", header=0)\n",
    "publications\n"
   ]
  },
  {
   "cell_type": "markdown",
   "metadata": {},
   "source": [
    "## Escape special characters\n",
    "\n",
    "YAML is very picky about how it takes a valid string, so we are replacing single and double quotes (and ampersands) with their HTML encoded equivilents. This makes them look not so readable in raw format, but they are parsed and rendered nicely."
   ]
  },
  {
   "cell_type": "code",
   "execution_count": 13,
   "metadata": {
    "collapsed": true,
    "deletable": true,
    "editable": true
   },
   "outputs": [],
   "source": [
    "html_escape_table = {\n",
    "    \"&\": \"&amp;\",\n",
    "    '\"': \"&quot;\",\n",
    "    \"'\": \"&apos;\"\n",
    "    }\n",
    "\n",
    "def html_escape(text):\n",
    "    \"\"\"Produce entities within text.\"\"\"\n",
    "    return \"\".join(html_escape_table.get(c,c) for c in text)"
   ]
  },
  {
   "cell_type": "markdown",
   "metadata": {},
   "source": [
    "## Creating the markdown files\n",
    "\n",
    "This is where the heavy lifting is done. This loops through all the rows in the TSV dataframe, then starts to concatentate a big string (```md```) that contains the markdown for each type. It does the YAML metadata first, then does the description for the individual page."
   ]
  },
  {
   "cell_type": "code",
   "execution_count": 14,
   "metadata": {
    "collapsed": false,
    "deletable": true,
    "editable": true
   },
   "outputs": [],
   "source": [
    "import os\n",
    "for row, item in publications.iterrows():\n",
    "    \n",
    "    md_filename = str(item.pub_date) + \"-\" + item.url_slug + \".md\"\n",
    "    html_filename = str(item.pub_date) + \"-\" + item.url_slug\n",
    "    year = item.pub_date[:4]\n",
    "    \n",
    "    ## YAML variables\n",
    "    \n",
    "    md = \"---\\ntitle: \\\"\"   + item.title + '\"\\n'\n",
    "    \n",
    "    md += \"\"\"collection: publications\"\"\"  + \"\\n\"\n",
    "    md += \"\"\"category: conferences\"\"\"\n",
    "    \n",
    "    md += \"\"\"\\npermalink: /publication/\"\"\" + html_filename\n",
    "    \n",
    "    if len(str(item.excerpt)) > 5:\n",
    "        md += \"\\nexcerpt: '\" + html_escape(item.excerpt) + \"'\"\n",
    "    \n",
    "    md += \"\\ndate: \" + str(item.pub_date) \n",
    "    \n",
    "    md += \"\\nvenue: '\" + html_escape(item.venue) + \"'\"\n",
    "    \n",
    "    if len(str(item.slides_url)) > 5:\n",
    "        md += \"\\nslidesurl: '\" + item.slides_url + \"'\"\n",
    "\n",
    "    if len(str(item.paper_url)) > 5:\n",
    "        md += \"\\npaperurl: '\" + item.paper_url + \"'\"\n",
    "    \n",
    "    md += \"\\ncitation: '\" + html_escape(item.citation) + \"'\"\n",
    "    \n",
    "    md += \"\\n---\"\n",
    "    \n",
    "    ## Markdown description for individual page\n",
    "        \n",
    "    if len(str(item.excerpt)) > 5:\n",
    "        md += \"\\n\" + html_escape(item.excerpt) + \"\\n\"\n",
    "\n",
    "    if len(str(item.slides_url)) > 5:\n",
    "        md += \"\\n[Download slides here](\" + item.slides_url + \")\\n\" \n",
    "\n",
    "    if len(str(item.paper_url)) > 5:\n",
    "        md += \"\\n[Download paper here](\" + item.paper_url + \")\\n\" \n",
    "        \n",
    "    md += \"\\nRecommended citation: \" + item.citation\n",
    "    \n",
    "    md_filename = os.path.basename(md_filename)\n",
    "       \n",
    "    with open(\"../_publications/\" + md_filename, 'w') as f:\n",
    "        f.write(md)"
   ]
  },
  {
   "cell_type": "markdown",
   "metadata": {},
   "source": [
    "These files are in the publications directory, one directory below where we're working from."
   ]
  },
  {
   "cell_type": "code",
   "execution_count": 15,
   "metadata": {
    "collapsed": false,
    "deletable": true,
    "editable": true
   },
   "outputs": [
    {
     "name": "stdout",
     "output_type": "stream",
     "text": [
      "2019-05-19-pathways.md      2023-09-08-coherence.md\n",
      "2021-08-02-investigating.md 2023-12-08-bless.md\n",
      "2021-09-21-role.md          2024-10-14-recsysinhr.md\n",
      "2022-12-08-prompt-ls.md     2024-12-24-simple.md\n",
      "2022-12-08-readability.md   2025-01-07-hicss.md\n"
     ]
    }
   ],
   "source": [
    "!ls ../_publications/"
   ]
  },
  {
   "cell_type": "code",
   "execution_count": 16,
   "metadata": {
    "collapsed": false,
    "deletable": true,
    "editable": true
   },
   "outputs": [
    {
     "name": "stdout",
     "output_type": "stream",
     "text": [
      "cat: ../_publications/2009-10-01-paper-title-number-1.md: No such file or directory\n"
     ]
    }
   ],
   "source": [
    "!cat ../_publications/2009-10-01-paper-title-number-1.md"
   ]
  },
  {
   "cell_type": "code",
   "execution_count": null,
   "metadata": {
    "collapsed": true,
    "deletable": true,
    "editable": true
   },
   "outputs": [],
   "source": []
  }
 ],
 "metadata": {
  "kernelspec": {
   "display_name": "env_3.11",
   "language": "python",
   "name": "python3"
  },
  "language_info": {
   "codemirror_mode": {
    "name": "ipython",
    "version": 3
   },
   "file_extension": ".py",
   "mimetype": "text/x-python",
   "name": "python",
   "nbconvert_exporter": "python",
   "pygments_lexer": "ipython3",
   "version": "3.11.10"
  }
 },
 "nbformat": 4,
 "nbformat_minor": 0
}
