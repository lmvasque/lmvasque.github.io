{
 "cells": [
  {
   "cell_type": "markdown",
   "metadata": {
    "deletable": true,
    "editable": true
   },
   "source": [
    "# Talks markdown generator for academicpages\n",
    "\n",
    "Takes a TSV of talks with metadata and converts them for use with [academicpages.github.io](academicpages.github.io). This is an interactive Jupyter notebook ([see more info here](http://jupyter-notebook-beginner-guide.readthedocs.io/en/latest/what_is_jupyter.html)). The core python code is also in `talks.py`. Run either from the `markdown_generator` folder after replacing `talks.tsv` with one containing your data.\n",
    "\n",
    "TODO: Make this work with BibTex and other databases, rather than Stuart's non-standard TSV format and citation style."
   ]
  },
  {
   "cell_type": "code",
   "execution_count": 1,
   "metadata": {
    "collapsed": false,
    "deletable": true,
    "editable": true
   },
   "outputs": [],
   "source": [
    "import pandas as pd\n",
    "import os\n",
    "\n",
    "TALKS = \"talks_laura.tsv\""
   ]
  },
  {
   "cell_type": "markdown",
   "metadata": {},
   "source": [
    "## Data format\n",
    "\n",
    "The TSV needs to have the following columns: title, type, url_slug, venue, date, location, talk_url, description, with a header at the top. Many of these fields can be blank, but the columns must be in the TSV.\n",
    "\n",
    "- Fields that cannot be blank: `title`, `url_slug`, `date`. All else can be blank. `type` defaults to \"Talk\" \n",
    "- `date` must be formatted as YYYY-MM-DD.\n",
    "- `url_slug` will be the descriptive part of the .md file and the permalink URL for the page about the paper. \n",
    "    - The .md file will be `YYYY-MM-DD-[url_slug].md` and the permalink will be `https://[yourdomain]/talks/YYYY-MM-DD-[url_slug]`\n",
    "    - The combination of `url_slug` and `date` must be unique, as it will be the basis for your filenames\n",
    "\n",
    "This is how the raw file looks (it doesn't look pretty, use a spreadsheet or other program to edit and create)."
   ]
  },
  {
   "cell_type": "code",
   "execution_count": 2,
   "metadata": {
    "collapsed": false
   },
   "outputs": [
    {
     "name": "stdout",
     "output_type": "stream",
     "text": [
      "cat: TALKS: No such file or directory\n"
     ]
    }
   ],
   "source": [
    "!cat TALKS"
   ]
  },
  {
   "cell_type": "markdown",
   "metadata": {},
   "source": [
    "## Import TSV\n",
    "\n",
    "Pandas makes this easy with the read_csv function. We are using a TSV, so we specify the separator as a tab, or `\\t`.\n",
    "\n",
    "I found it important to put this data in a tab-separated values format, because there are a lot of commas in this kind of data and comma-separated values can get messed up. However, you can modify the import statement, as pandas also has read_excel(), read_json(), and others."
   ]
  },
  {
   "cell_type": "code",
   "execution_count": 3,
   "metadata": {
    "collapsed": false,
    "deletable": true,
    "editable": true
   },
   "outputs": [
    {
     "data": {
      "text/html": [
       "<div>\n",
       "<style scoped>\n",
       "    .dataframe tbody tr th:only-of-type {\n",
       "        vertical-align: middle;\n",
       "    }\n",
       "\n",
       "    .dataframe tbody tr th {\n",
       "        vertical-align: top;\n",
       "    }\n",
       "\n",
       "    .dataframe thead th {\n",
       "        text-align: right;\n",
       "    }\n",
       "</style>\n",
       "<table border=\"1\" class=\"dataframe\">\n",
       "  <thead>\n",
       "    <tr style=\"text-align: right;\">\n",
       "      <th></th>\n",
       "      <th>title</th>\n",
       "      <th>type</th>\n",
       "      <th>url_slug</th>\n",
       "      <th>venue</th>\n",
       "      <th>date</th>\n",
       "      <th>location</th>\n",
       "      <th>talk_url</th>\n",
       "      <th>description</th>\n",
       "    </tr>\n",
       "  </thead>\n",
       "  <tbody>\n",
       "    <tr>\n",
       "      <th>0</th>\n",
       "      <td>Hardware-effective Approaches for Skill Extrac...</td>\n",
       "      <td>Talk</td>\n",
       "      <td>sheffield</td>\n",
       "      <td>NLP Seminars, University of Sheffield</td>\n",
       "      <td>2024-12-12</td>\n",
       "      <td>Online</td>\n",
       "      <td>NaN</td>\n",
       "      <td>This talk will present hardware-effective meth...</td>\n",
       "    </tr>\n",
       "    <tr>\n",
       "      <th>1</th>\n",
       "      <td>How AI is Shaping Your Job Hunt?</td>\n",
       "      <td>Panel</td>\n",
       "      <td>cinfo</td>\n",
       "      <td>Forum cInfo: The Swiss Event on Work and Caree...</td>\n",
       "      <td>2024-11-22</td>\n",
       "      <td>Bern, Switzerland</td>\n",
       "      <td>https://www.cinfo.ch/en/news/forum-cinfo-2024-...</td>\n",
       "      <td>Panel discussion about AI's transformative rol...</td>\n",
       "    </tr>\n",
       "    <tr>\n",
       "      <th>2</th>\n",
       "      <td>AI-based Soft Skills Matching</td>\n",
       "      <td>Workshop</td>\n",
       "      <td>ehl</td>\n",
       "      <td>Talent Management Systems Course, EHL Business...</td>\n",
       "      <td>2024-11-07</td>\n",
       "      <td>Lausanne, Switzerland</td>\n",
       "      <td>NaN</td>\n",
       "      <td>Skill extraction introduction and annotations ...</td>\n",
       "    </tr>\n",
       "    <tr>\n",
       "      <th>3</th>\n",
       "      <td>Navigating Skills Detection in AI-Enhanced ATS</td>\n",
       "      <td>Talk</td>\n",
       "      <td>arca</td>\n",
       "      <td>Arca24 S.A</td>\n",
       "      <td>2024-09-10</td>\n",
       "      <td>Novazzano, Switzerland</td>\n",
       "      <td>NaN</td>\n",
       "      <td>SEM24 Sharing Session for All Arca24 Employees.</td>\n",
       "    </tr>\n",
       "    <tr>\n",
       "      <th>4</th>\n",
       "      <td>Navigating Skills Detection and Bias in AI-Enh...</td>\n",
       "      <td>Talk</td>\n",
       "      <td>hesso</td>\n",
       "      <td>9th AI Valais/Wallis Workshop on Human-AI Team...</td>\n",
       "      <td>2024-04-26</td>\n",
       "      <td>Sierre, Switzerland</td>\n",
       "      <td>https://www.hevs.ch/en/events/9th-ai-valais-wa...</td>\n",
       "      <td>In recent years, the automation of skills dete...</td>\n",
       "    </tr>\n",
       "    <tr>\n",
       "      <th>5</th>\n",
       "      <td>The use of AI in Talent Management Systems</td>\n",
       "      <td>Talk</td>\n",
       "      <td>gap</td>\n",
       "      <td>Online, Growth Acceleration Partners (GAP)</td>\n",
       "      <td>2024-03-14</td>\n",
       "      <td>Costa Rica</td>\n",
       "      <td>https://www.youtube.com/watch?v=YNPvWtKslm4&amp;fe...</td>\n",
       "      <td>In this talk, we will learn about the applicat...</td>\n",
       "    </tr>\n",
       "    <tr>\n",
       "      <th>6</th>\n",
       "      <td>Language technologies for industry: Research i...</td>\n",
       "      <td>Talk</td>\n",
       "      <td>ehl</td>\n",
       "      <td>Talent Management Systems Course, EHL Business...</td>\n",
       "      <td>2023-11-16</td>\n",
       "      <td>Lausanne, Switzerland</td>\n",
       "      <td>NaN</td>\n",
       "      <td>Skill extraction introduction and annotations ...</td>\n",
       "    </tr>\n",
       "    <tr>\n",
       "      <th>7</th>\n",
       "      <td>Text Simplification Open Discussion Session</td>\n",
       "      <td>Chair</td>\n",
       "      <td>tsar</td>\n",
       "      <td>14th Conference in Recent Advances in Natural ...</td>\n",
       "      <td>2023-09-08</td>\n",
       "      <td>Varna, Bulgaria</td>\n",
       "      <td>https://aclanthology.org/volumes/2023.tsar-1/</td>\n",
       "      <td>Moderator for the Text Simplification future d...</td>\n",
       "    </tr>\n",
       "    <tr>\n",
       "      <th>8</th>\n",
       "      <td>Text Simplification at MilaNLP</td>\n",
       "      <td>Talk</td>\n",
       "      <td>milanlp</td>\n",
       "      <td>The Milan Natural Language Processing Group</td>\n",
       "      <td>2023-05-26</td>\n",
       "      <td>Online</td>\n",
       "      <td>NaN</td>\n",
       "      <td>Introduction to Text Simplification and Annota...</td>\n",
       "    </tr>\n",
       "  </tbody>\n",
       "</table>\n",
       "</div>"
      ],
      "text/plain": [
       "                                               title      type   url_slug  \\\n",
       "0  Hardware-effective Approaches for Skill Extrac...      Talk  sheffield   \n",
       "1                   How AI is Shaping Your Job Hunt?     Panel      cinfo   \n",
       "2                      AI-based Soft Skills Matching  Workshop        ehl   \n",
       "3     Navigating Skills Detection in AI-Enhanced ATS      Talk       arca   \n",
       "4  Navigating Skills Detection and Bias in AI-Enh...      Talk      hesso   \n",
       "5         The use of AI in Talent Management Systems      Talk        gap   \n",
       "6  Language technologies for industry: Research i...      Talk        ehl   \n",
       "7        Text Simplification Open Discussion Session     Chair       tsar   \n",
       "8                     Text Simplification at MilaNLP      Talk    milanlp   \n",
       "\n",
       "                                               venue        date  \\\n",
       "0              NLP Seminars, University of Sheffield  2024-12-12   \n",
       "1  Forum cInfo: The Swiss Event on Work and Caree...  2024-11-22   \n",
       "2  Talent Management Systems Course, EHL Business...  2024-11-07   \n",
       "3                                         Arca24 S.A  2024-09-10   \n",
       "4  9th AI Valais/Wallis Workshop on Human-AI Team...  2024-04-26   \n",
       "5         Online, Growth Acceleration Partners (GAP)  2024-03-14   \n",
       "6  Talent Management Systems Course, EHL Business...  2023-11-16   \n",
       "7  14th Conference in Recent Advances in Natural ...  2023-09-08   \n",
       "8        The Milan Natural Language Processing Group  2023-05-26   \n",
       "\n",
       "                 location                                           talk_url  \\\n",
       "0                  Online                                                NaN   \n",
       "1       Bern, Switzerland  https://www.cinfo.ch/en/news/forum-cinfo-2024-...   \n",
       "2   Lausanne, Switzerland                                                NaN   \n",
       "3  Novazzano, Switzerland                                                NaN   \n",
       "4     Sierre, Switzerland  https://www.hevs.ch/en/events/9th-ai-valais-wa...   \n",
       "5              Costa Rica  https://www.youtube.com/watch?v=YNPvWtKslm4&fe...   \n",
       "6   Lausanne, Switzerland                                                NaN   \n",
       "7         Varna, Bulgaria      https://aclanthology.org/volumes/2023.tsar-1/   \n",
       "8                  Online                                                NaN   \n",
       "\n",
       "                                         description  \n",
       "0  This talk will present hardware-effective meth...  \n",
       "1  Panel discussion about AI's transformative rol...  \n",
       "2  Skill extraction introduction and annotations ...  \n",
       "3    SEM24 Sharing Session for All Arca24 Employees.  \n",
       "4  In recent years, the automation of skills dete...  \n",
       "5  In this talk, we will learn about the applicat...  \n",
       "6  Skill extraction introduction and annotations ...  \n",
       "7  Moderator for the Text Simplification future d...  \n",
       "8  Introduction to Text Simplification and Annota...  "
      ]
     },
     "execution_count": 3,
     "metadata": {},
     "output_type": "execute_result"
    }
   ],
   "source": [
    "talks = pd.read_csv(TALKS, sep=\"\\t\", header=0)\n",
    "talks"
   ]
  },
  {
   "cell_type": "markdown",
   "metadata": {},
   "source": [
    "## Escape special characters\n",
    "\n",
    "YAML is very picky about how it takes a valid string, so we are replacing single and double quotes (and ampersands) with their HTML encoded equivilents. This makes them look not so readable in raw format, but they are parsed and rendered nicely."
   ]
  },
  {
   "cell_type": "code",
   "execution_count": 4,
   "metadata": {
    "collapsed": false,
    "deletable": true,
    "editable": true
   },
   "outputs": [],
   "source": [
    "html_escape_table = {\n",
    "    \"&\": \"&amp;\",\n",
    "    '\"': \"&quot;\",\n",
    "    \"'\": \"&apos;\"\n",
    "    }\n",
    "\n",
    "def html_escape(text):\n",
    "    if type(text) is str:\n",
    "        return \"\".join(html_escape_table.get(c,c) for c in text)\n",
    "    else:\n",
    "        return \"False\""
   ]
  },
  {
   "cell_type": "markdown",
   "metadata": {},
   "source": [
    "## Creating the markdown files\n",
    "\n",
    "This is where the heavy lifting is done. This loops through all the rows in the TSV dataframe, then starts to concatentate a big string (```md```) that contains the markdown for each type. It does the YAML metadata first, then does the description for the individual page."
   ]
  },
  {
   "cell_type": "code",
   "execution_count": 5,
   "metadata": {
    "collapsed": false,
    "deletable": true,
    "editable": true
   },
   "outputs": [],
   "source": [
    "loc_dict = {}\n",
    "\n",
    "for row, item in talks.iterrows():\n",
    "    \n",
    "    md_filename = str(item.date) + \"-\" + item.url_slug + \".md\"\n",
    "    html_filename = str(item.date) + \"-\" + item.url_slug \n",
    "    year = item.date[:4]\n",
    "    \n",
    "    md = \"---\\ntitle: \\\"\"   + item.title + '\"\\n'\n",
    "    md += \"collection: talks\" + \"\\n\"\n",
    "    \n",
    "    if len(str(item.type)) > 3:\n",
    "        md += 'type: \"' + item.type + '\"\\n'\n",
    "    else:\n",
    "        md += 'type: \"Talk\"\\n'\n",
    "    \n",
    "    md += \"permalink: /talks/\" + html_filename + \"\\n\"\n",
    "    \n",
    "    if len(str(item.venue)) > 3:\n",
    "        md += 'venue: \"' + item.venue + '\"\\n'\n",
    "        \n",
    "    if len(str(item.location)) > 3:\n",
    "        md += \"date: \" + str(item.date) + \"\\n\"\n",
    "    \n",
    "    if len(str(item.location)) > 3:\n",
    "        md += 'location: \"' + str(item.location) + '\"\\n'\n",
    "           \n",
    "    md += \"---\\n\"\n",
    "    \n",
    "    \n",
    "    if len(str(item.talk_url)) > 3:\n",
    "        md += \"\\n[More information here](\" + item.talk_url + \")\\n\" \n",
    "        \n",
    "    \n",
    "    if len(str(item.description)) > 3:\n",
    "        md += \"\\n\" + html_escape(item.description) + \"\\n\"\n",
    "        \n",
    "        \n",
    "    md_filename = os.path.basename(md_filename)\n",
    "    #print(md)\n",
    "    \n",
    "    with open(\"../_talks/\" + md_filename, 'w') as f:\n",
    "        f.write(md)"
   ]
  },
  {
   "cell_type": "markdown",
   "metadata": {},
   "source": [
    "These files are in the talks directory, one directory below where we're working from."
   ]
  },
  {
   "cell_type": "code",
   "execution_count": 6,
   "metadata": {
    "collapsed": false,
    "deletable": true,
    "editable": true
   },
   "outputs": [
    {
     "name": "stdout",
     "output_type": "stream",
     "text": [
      "2012-03-01-talk-1.md     2023-09-08-tsar.md       2024-11-07-ehl.md\n",
      "2013-03-01-tutorial-1.md 2023-11-16-ehl.md        2024-11-22-cinfo.md\n",
      "2014-02-01-talk-2.md     2024-03-14-gap.md        2024-12-12-sheffield.md\n",
      "2014-03-01-talk-3.md     2024-04-26-hesso.md\n",
      "2023-05-26-milanlp.md    2024-09-10-arca.md\n"
     ]
    }
   ],
   "source": [
    "!ls ../_talks"
   ]
  },
  {
   "cell_type": "code",
   "execution_count": 7,
   "metadata": {
    "collapsed": false,
    "deletable": true,
    "editable": true
   },
   "outputs": [
    {
     "name": "stdout",
     "output_type": "stream",
     "text": [
      "---\n",
      "title: \"Tutorial 1 on Relevant Topic in Your Field\"\n",
      "collection: talks\n",
      "type: \"Tutorial\"\n",
      "permalink: /talks/2013-03-01-tutorial-1\n",
      "venue: \"UC-Berkeley Institute for Testing Science\"\n",
      "date: 2013-03-01\n",
      "location: \"Berkeley CA, USA\"\n",
      "---\n",
      "\n",
      "[More information here](http://exampleurl.com)\n",
      "\n",
      "This is a description of your tutorial, note the different field in type. This is a markdown files that can be all markdown-ified like any other post. Yay markdown!\n"
     ]
    }
   ],
   "source": [
    "!cat ../_talks/2013-03-01-tutorial-1.md"
   ]
  }
 ],
 "metadata": {
  "kernelspec": {
   "display_name": "env_3.11",
   "language": "python",
   "name": "python3"
  },
  "language_info": {
   "codemirror_mode": {
    "name": "ipython",
    "version": 3
   },
   "file_extension": ".py",
   "mimetype": "text/x-python",
   "name": "python",
   "nbconvert_exporter": "python",
   "pygments_lexer": "ipython3",
   "version": "3.11.10"
  }
 },
 "nbformat": 4,
 "nbformat_minor": 0
}
